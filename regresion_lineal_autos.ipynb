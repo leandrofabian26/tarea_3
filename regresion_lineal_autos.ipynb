{
 "cells": [
  {
   "cell_type": "code",
   "execution_count": 1,
   "id": "e0b40c3e-cf5a-4932-bb00-f4d5f8dcef2e",
   "metadata": {},
   "outputs": [],
   "source": [
    "import os"
   ]
  },
  {
   "cell_type": "code",
   "execution_count": 2,
   "id": "02c3084c-f39e-4129-b7ec-6d235275a254",
   "metadata": {},
   "outputs": [],
   "source": [
    "import pandas as pd"
   ]
  },
  {
   "cell_type": "code",
   "execution_count": 3,
   "id": "3427a3b8-298b-4fe0-8a5c-233b09ca0d03",
   "metadata": {},
   "outputs": [],
   "source": [
    "import numpy as np"
   ]
  },
  {
   "cell_type": "code",
   "execution_count": 4,
   "id": "e8202384-41c8-4ddb-b422-7f53784dddd0",
   "metadata": {},
   "outputs": [],
   "source": [
    "import matplotlib.pyplot as plt"
   ]
  },
  {
   "cell_type": "code",
   "execution_count": 5,
   "id": "c82c1e65-592f-484a-8ccb-112cc005f420",
   "metadata": {},
   "outputs": [],
   "source": [
    "from sklearn.linear_model import LinearRegression"
   ]
  },
  {
   "cell_type": "code",
   "execution_count": 6,
   "id": "3360bc93-1950-49b7-96b6-ba68b7c14fee",
   "metadata": {},
   "outputs": [],
   "source": [
    "from sklearn.metrics import mean_squared_error, mean_absolute_error, r2_score"
   ]
  },
  {
   "cell_type": "code",
   "execution_count": 7,
   "id": "369a6e42-28e3-4279-9258-d68b733b922e",
   "metadata": {},
   "outputs": [],
   "source": [
    "from sklearn.model_selection import train_test_split"
   ]
  },
  {
   "cell_type": "code",
   "execution_count": 11,
   "id": "2ede9b75-4fc5-4f99-8d58-b58b5d5f171c",
   "metadata": {},
   "outputs": [],
   "source": [
    "directory = 'C:\\\\Users\\\\fabia\\\\OneDrive\\\\Escritorio\\\\ANALISIS DE DATOS\\\\1 REGRESION LINEAL'"
   ]
  },
  {
   "cell_type": "code",
   "execution_count": 18,
   "id": "c60be232-76c3-44f9-9b6a-35616259f565",
   "metadata": {},
   "outputs": [],
   "source": [
    "dataframes = []\n",
    "for filename in os.listdir(directory):\n",
    "    if filename.endswith('.csv'):\n",
    "        path = os.path.join(directory, filename)\n",
    "        df = pd.read_csv(path)\n",
    "        dataframes.append(df)"
   ]
  },
  {
   "cell_type": "code",
   "execution_count": 19,
   "id": "f5136e4f-99b1-49ae-9cde-a248a41e0230",
   "metadata": {},
   "outputs": [],
   "source": [
    "\n",
    "combined_df = pd.concat(dataframes, ignore_index=True)\n"
   ]
  },
  {
   "cell_type": "code",
   "execution_count": 38,
   "id": "38b5161d-6e45-4bc2-82d6-7f4c13fbdf77",
   "metadata": {},
   "outputs": [
    {
     "name": "stdout",
     "output_type": "stream",
     "text": [
      "  car_name  selling_price  present_price  kms_driven seller_type transmission  \\\n",
      "0     ritz           3.35           5.59     27000.0      Dealer       Manual   \n",
      "1      sx4           4.75           9.54     43000.0      Dealer       Manual   \n",
      "2     ciaz           7.25           9.85      6900.0      Dealer       Manual   \n",
      "3  wagon r           2.85           4.15      5200.0      Dealer       Manual   \n",
      "4    swift           4.60           6.87     42450.0      Dealer       Manual   \n",
      "\n",
      "  owner  selling_price  km_driven fuel  ... max power max torque drivetrain  \\\n",
      "0     0            NaN        NaN  NaN  ...       NaN        NaN        NaN   \n",
      "1     0            NaN        NaN  NaN  ...       NaN        NaN        NaN   \n",
      "2     0            NaN        NaN  NaN  ...       NaN        NaN        NaN   \n",
      "3     0            NaN        NaN  NaN  ...       NaN        NaN        NaN   \n",
      "4     0            NaN        NaN  NaN  ...       NaN        NaN        NaN   \n",
      "\n",
      "   length width height seating capacity  fuel tank capacity fuel_type_Diesel  \\\n",
      "0     NaN   NaN    NaN              NaN                 NaN            False   \n",
      "1     NaN   NaN    NaN              NaN                 NaN             True   \n",
      "2     NaN   NaN    NaN              NaN                 NaN            False   \n",
      "3     NaN   NaN    NaN              NaN                 NaN            False   \n",
      "4     NaN   NaN    NaN              NaN                 NaN             True   \n",
      "\n",
      "  fuel_type_Petrol  \n",
      "0             True  \n",
      "1            False  \n",
      "2             True  \n",
      "3             True  \n",
      "4            False  \n",
      "\n",
      "[5 rows x 37 columns]\n"
     ]
    }
   ],
   "source": [
    "print(combined_df.head())"
   ]
  },
  {
   "cell_type": "code",
   "execution_count": 39,
   "id": "8c9bfdf4-8b4d-40b2-8002-7d60ddcb077b",
   "metadata": {},
   "outputs": [
    {
     "name": "stdout",
     "output_type": "stream",
     "text": [
      "       selling_price  present_price     kms_driven  selling_price  \\\n",
      "count     301.000000     301.000000     301.000000   1.246800e+04   \n",
      "mean        4.661296       7.628472   36947.205980   5.915773e+05   \n",
      "std         5.082812       8.644115   38886.883882   7.377876e+05   \n",
      "min         0.100000       0.320000     500.000000   2.000000e+04   \n",
      "25%         0.900000       1.200000   15000.000000   2.400000e+05   \n",
      "50%         3.600000       6.400000   32000.000000   4.200000e+05   \n",
      "75%         6.000000       9.900000   48767.000000   6.500000e+05   \n",
      "max        35.000000      92.600000  500000.000000   1.000000e+07   \n",
      "\n",
      "          km_driven  mileage        seats         price     kilometer  \\\n",
      "count  1.246800e+04      0.0  7907.000000  2.059000e+03  2.059000e+03   \n",
      "mean   6.856508e+04      NaN     5.416719  1.702992e+06  5.422471e+04   \n",
      "std    5.333721e+04      NaN     0.959588  2.419881e+06  5.736172e+04   \n",
      "min    1.000000e+00      NaN     2.000000  4.900000e+04  0.000000e+00   \n",
      "25%    3.500000e+04      NaN     5.000000  4.849990e+05  2.900000e+04   \n",
      "50%    6.000000e+04      NaN     5.000000  8.250000e+05  5.000000e+04   \n",
      "75%    9.000000e+04      NaN     5.000000  1.925000e+06  7.200000e+04   \n",
      "max    2.360457e+06      NaN    14.000000  3.500000e+07  2.000000e+06   \n",
      "\n",
      "            length        width       height  seating capacity  \\\n",
      "count  1995.000000  1995.000000  1995.000000       1995.000000   \n",
      "mean   4280.860652  1767.991980  1591.735338          5.306266   \n",
      "std     442.458507   135.265825   136.073956          0.822170   \n",
      "min    3099.000000  1475.000000  1165.000000          2.000000   \n",
      "25%    3985.000000  1695.000000  1485.000000          5.000000   \n",
      "50%    4370.000000  1770.000000  1545.000000          5.000000   \n",
      "75%    4629.000000  1831.500000  1675.000000          5.000000   \n",
      "max    5569.000000  2220.000000  1995.000000          8.000000   \n",
      "\n",
      "       fuel tank capacity  \n",
      "count         1946.000000  \n",
      "mean            52.002210  \n",
      "std             15.110198  \n",
      "min             15.000000  \n",
      "25%             41.250000  \n",
      "50%             50.000000  \n",
      "75%             60.000000  \n",
      "max            105.000000  \n"
     ]
    }
   ],
   "source": [
    "print(combined_df.describe())"
   ]
  },
  {
   "cell_type": "code",
   "execution_count": 40,
   "id": "532ee10f-6ef9-453b-976c-c79c57e9589a",
   "metadata": {},
   "outputs": [
    {
     "name": "stdout",
     "output_type": "stream",
     "text": [
      "car_name              14527\n",
      "selling_price         14527\n",
      "present_price         14527\n",
      "kms_driven            14527\n",
      "seller_type           14527\n",
      "transmission          12468\n",
      "owner                 12468\n",
      "selling_price          2360\n",
      "km_driven              2360\n",
      "fuel                   2360\n",
      "seller_type            2360\n",
      "transmission           2360\n",
      "owner                  2360\n",
      "mileage               14828\n",
      "engine                 6921\n",
      "max_power              6915\n",
      "torque                 6922\n",
      "seats                  6921\n",
      "make                  12769\n",
      "model                 12769\n",
      "price                 12769\n",
      "kilometer             12769\n",
      "fuel type             12769\n",
      "location              12769\n",
      "color                 12769\n",
      "seller type           12769\n",
      "engine                12849\n",
      "max power             12849\n",
      "max torque            12849\n",
      "drivetrain            12905\n",
      "length                12833\n",
      "width                 12833\n",
      "height                12833\n",
      "seating capacity      12833\n",
      "fuel tank capacity    12882\n",
      "fuel_type_Diesel          0\n",
      "fuel_type_Petrol          0\n",
      "dtype: int64\n"
     ]
    }
   ],
   "source": [
    "print(combined_df.isnull().sum())"
   ]
  },
  {
   "cell_type": "code",
   "execution_count": 41,
   "id": "b0f59edd-c16d-4582-b02d-b6b21c98770d",
   "metadata": {},
   "outputs": [],
   "source": [
    "umbral = 0.6  \n",
    "combined_df = combined_df.loc[:, combined_df.isnull().mean() < umbral]"
   ]
  },
  {
   "cell_type": "code",
   "execution_count": 42,
   "id": "afa37005-c75d-4121-8f99-a1f7366e16eb",
   "metadata": {},
   "outputs": [],
   "source": [
    "for col in combined_df.select_dtypes(include=np.number).columns:\n",
    "    combined_df[col].fillna(combined_df[col].median(), inplace=True)"
   ]
  },
  {
   "cell_type": "code",
   "execution_count": 43,
   "id": "dbb016aa-a79b-48fa-a5fe-538709eab94a",
   "metadata": {},
   "outputs": [],
   "source": [
    "for col in combined_df.select_dtypes(include=['object']).columns:\n",
    "    combined_df[col].fillna(combined_df[col].mode()[0], inplace=True)\n"
   ]
  },
  {
   "cell_type": "code",
   "execution_count": 44,
   "id": "c22854f8-6017-4178-9a12-1a6d282ab367",
   "metadata": {},
   "outputs": [
    {
     "name": "stdout",
     "output_type": "stream",
     "text": [
      "selling_price       0\n",
      "km_driven           0\n",
      "fuel                0\n",
      "seller_type         0\n",
      "transmission        0\n",
      "owner               0\n",
      "engine              0\n",
      "max_power           0\n",
      "torque              0\n",
      "seats               0\n",
      "fuel_type_Diesel    0\n",
      "fuel_type_Petrol    0\n",
      "dtype: int64\n"
     ]
    }
   ],
   "source": [
    "print(combined_df.isnull().sum())"
   ]
  },
  {
   "cell_type": "code",
   "execution_count": 45,
   "id": "6c9247f8-0781-49a7-beed-c367d1c1a6a0",
   "metadata": {},
   "outputs": [],
   "source": [
    "categorical_cols = combined_df.select_dtypes(include=['object']).columns"
   ]
  },
  {
   "cell_type": "code",
   "execution_count": 46,
   "id": "2af4c2a6-47f7-4e51-8e8b-075eb628c166",
   "metadata": {},
   "outputs": [],
   "source": [
    "combined_df_encoded = pd.get_dummies(combined_df, columns=categorical_cols, drop_first=True)\n"
   ]
  },
  {
   "cell_type": "code",
   "execution_count": 47,
   "id": "6e776696-6dae-47bf-99f6-ec64151a9495",
   "metadata": {},
   "outputs": [
    {
     "name": "stdout",
     "output_type": "stream",
     "text": [
      "   selling_price  km_driven  seats  fuel_type_Diesel  fuel_type_Petrol  \\\n",
      "0       420000.0    60000.0    5.0             False              True   \n",
      "1       420000.0    60000.0    5.0              True             False   \n",
      "2       420000.0    60000.0    5.0             False              True   \n",
      "3       420000.0    60000.0    5.0             False              True   \n",
      "4       420000.0    60000.0    5.0              True             False   \n",
      "\n",
      "   fuel_Diesel  fuel_Electric  fuel_LPG  fuel_Petrol  seller_type_Individual  \\\n",
      "0         True          False     False        False                    True   \n",
      "1         True          False     False        False                    True   \n",
      "2         True          False     False        False                    True   \n",
      "3         True          False     False        False                    True   \n",
      "4         True          False     False        False                    True   \n",
      "\n",
      "   ...  torque_96.1Nm@ 3000rpm  torque_96Nm@ 2500rpm  torque_96Nm@ 3000rpm  \\\n",
      "0  ...                   False                 False                 False   \n",
      "1  ...                   False                 False                 False   \n",
      "2  ...                   False                 False                 False   \n",
      "3  ...                   False                 False                 False   \n",
      "4  ...                   False                 False                 False   \n",
      "\n",
      "   torque_96Nm@ 3500rpm  torque_98Nm@ 1600-3000rpm  torque_99.04Nm@ 4500rpm  \\\n",
      "0                 False                      False                    False   \n",
      "1                 False                      False                    False   \n",
      "2                 False                      False                    False   \n",
      "3                 False                      False                    False   \n",
      "4                 False                      False                    False   \n",
      "\n",
      "   torque_99.07Nm@ 4500rpm  torque_99.1Nm@ 4500rpm  torque_99.8Nm@ 2700rpm  \\\n",
      "0                    False                   False                   False   \n",
      "1                    False                   False                   False   \n",
      "2                    False                   False                   False   \n",
      "3                    False                   False                   False   \n",
      "4                    False                   False                   False   \n",
      "\n",
      "   torque_99Nm@ 4500rpm  \n",
      "0                 False  \n",
      "1                 False  \n",
      "2                 False  \n",
      "3                 False  \n",
      "4                 False  \n",
      "\n",
      "[5 rows x 897 columns]\n"
     ]
    }
   ],
   "source": [
    "print(combined_df_encoded.head())"
   ]
  },
  {
   "cell_type": "code",
   "execution_count": 48,
   "id": "69f94564-1d75-41bc-b77b-e871f022c9dc",
   "metadata": {},
   "outputs": [],
   "source": [
    "from sklearn.model_selection import train_test_split"
   ]
  },
  {
   "cell_type": "code",
   "execution_count": 49,
   "id": "1882b349-000e-407f-87ad-6252258902b7",
   "metadata": {},
   "outputs": [],
   "source": [
    "X = combined_df_encoded.drop('selling_price', axis=1)  \n",
    "y = combined_df_encoded['selling_price']  \n"
   ]
  },
  {
   "cell_type": "code",
   "execution_count": 50,
   "id": "9a5ca063-fe21-457a-acd5-3df367ecba3c",
   "metadata": {},
   "outputs": [],
   "source": [
    "X_train, X_test, y_train, y_test = train_test_split(X, y, test_size=0.2, random_state=42)\n"
   ]
  },
  {
   "cell_type": "code",
   "execution_count": 51,
   "id": "15d7b76a-04db-4914-94a4-0b2e003826f9",
   "metadata": {},
   "outputs": [
    {
     "name": "stdout",
     "output_type": "stream",
     "text": [
      "Datos de entrenamiento: (11862, 896)\n",
      "Datos de prueba: (2966, 896)\n"
     ]
    }
   ],
   "source": [
    "print(\"Datos de entrenamiento:\", X_train.shape)\n",
    "print(\"Datos de prueba:\", X_test.shape)"
   ]
  },
  {
   "cell_type": "code",
   "execution_count": 52,
   "id": "ea5c1721-f729-4e94-a149-da35e41ee585",
   "metadata": {},
   "outputs": [],
   "source": [
    "from sklearn.linear_model import LinearRegression"
   ]
  },
  {
   "cell_type": "code",
   "execution_count": 53,
   "id": "dfbc0a27-91fb-4da0-a1db-29660a85152b",
   "metadata": {},
   "outputs": [],
   "source": [
    "linear_model = LinearRegression()\n"
   ]
  },
  {
   "cell_type": "code",
   "execution_count": 54,
   "id": "46abebd7-12fd-490b-bacc-b386a53360de",
   "metadata": {},
   "outputs": [
    {
     "data": {
      "text/html": [
       "<style>#sk-container-id-1 {color: black;background-color: white;}#sk-container-id-1 pre{padding: 0;}#sk-container-id-1 div.sk-toggleable {background-color: white;}#sk-container-id-1 label.sk-toggleable__label {cursor: pointer;display: block;width: 100%;margin-bottom: 0;padding: 0.3em;box-sizing: border-box;text-align: center;}#sk-container-id-1 label.sk-toggleable__label-arrow:before {content: \"▸\";float: left;margin-right: 0.25em;color: #696969;}#sk-container-id-1 label.sk-toggleable__label-arrow:hover:before {color: black;}#sk-container-id-1 div.sk-estimator:hover label.sk-toggleable__label-arrow:before {color: black;}#sk-container-id-1 div.sk-toggleable__content {max-height: 0;max-width: 0;overflow: hidden;text-align: left;background-color: #f0f8ff;}#sk-container-id-1 div.sk-toggleable__content pre {margin: 0.2em;color: black;border-radius: 0.25em;background-color: #f0f8ff;}#sk-container-id-1 input.sk-toggleable__control:checked~div.sk-toggleable__content {max-height: 200px;max-width: 100%;overflow: auto;}#sk-container-id-1 input.sk-toggleable__control:checked~label.sk-toggleable__label-arrow:before {content: \"▾\";}#sk-container-id-1 div.sk-estimator input.sk-toggleable__control:checked~label.sk-toggleable__label {background-color: #d4ebff;}#sk-container-id-1 div.sk-label input.sk-toggleable__control:checked~label.sk-toggleable__label {background-color: #d4ebff;}#sk-container-id-1 input.sk-hidden--visually {border: 0;clip: rect(1px 1px 1px 1px);clip: rect(1px, 1px, 1px, 1px);height: 1px;margin: -1px;overflow: hidden;padding: 0;position: absolute;width: 1px;}#sk-container-id-1 div.sk-estimator {font-family: monospace;background-color: #f0f8ff;border: 1px dotted black;border-radius: 0.25em;box-sizing: border-box;margin-bottom: 0.5em;}#sk-container-id-1 div.sk-estimator:hover {background-color: #d4ebff;}#sk-container-id-1 div.sk-parallel-item::after {content: \"\";width: 100%;border-bottom: 1px solid gray;flex-grow: 1;}#sk-container-id-1 div.sk-label:hover label.sk-toggleable__label {background-color: #d4ebff;}#sk-container-id-1 div.sk-serial::before {content: \"\";position: absolute;border-left: 1px solid gray;box-sizing: border-box;top: 0;bottom: 0;left: 50%;z-index: 0;}#sk-container-id-1 div.sk-serial {display: flex;flex-direction: column;align-items: center;background-color: white;padding-right: 0.2em;padding-left: 0.2em;position: relative;}#sk-container-id-1 div.sk-item {position: relative;z-index: 1;}#sk-container-id-1 div.sk-parallel {display: flex;align-items: stretch;justify-content: center;background-color: white;position: relative;}#sk-container-id-1 div.sk-item::before, #sk-container-id-1 div.sk-parallel-item::before {content: \"\";position: absolute;border-left: 1px solid gray;box-sizing: border-box;top: 0;bottom: 0;left: 50%;z-index: -1;}#sk-container-id-1 div.sk-parallel-item {display: flex;flex-direction: column;z-index: 1;position: relative;background-color: white;}#sk-container-id-1 div.sk-parallel-item:first-child::after {align-self: flex-end;width: 50%;}#sk-container-id-1 div.sk-parallel-item:last-child::after {align-self: flex-start;width: 50%;}#sk-container-id-1 div.sk-parallel-item:only-child::after {width: 0;}#sk-container-id-1 div.sk-dashed-wrapped {border: 1px dashed gray;margin: 0 0.4em 0.5em 0.4em;box-sizing: border-box;padding-bottom: 0.4em;background-color: white;}#sk-container-id-1 div.sk-label label {font-family: monospace;font-weight: bold;display: inline-block;line-height: 1.2em;}#sk-container-id-1 div.sk-label-container {text-align: center;}#sk-container-id-1 div.sk-container {/* jupyter's `normalize.less` sets `[hidden] { display: none; }` but bootstrap.min.css set `[hidden] { display: none !important; }` so we also need the `!important` here to be able to override the default hidden behavior on the sphinx rendered scikit-learn.org. See: https://github.com/scikit-learn/scikit-learn/issues/21755 */display: inline-block !important;position: relative;}#sk-container-id-1 div.sk-text-repr-fallback {display: none;}</style><div id=\"sk-container-id-1\" class=\"sk-top-container\"><div class=\"sk-text-repr-fallback\"><pre>LinearRegression()</pre><b>In a Jupyter environment, please rerun this cell to show the HTML representation or trust the notebook. <br />On GitHub, the HTML representation is unable to render, please try loading this page with nbviewer.org.</b></div><div class=\"sk-container\" hidden><div class=\"sk-item\"><div class=\"sk-estimator sk-toggleable\"><input class=\"sk-toggleable__control sk-hidden--visually\" id=\"sk-estimator-id-1\" type=\"checkbox\" checked><label for=\"sk-estimator-id-1\" class=\"sk-toggleable__label sk-toggleable__label-arrow\">LinearRegression</label><div class=\"sk-toggleable__content\"><pre>LinearRegression()</pre></div></div></div></div></div>"
      ],
      "text/plain": [
       "LinearRegression()"
      ]
     },
     "execution_count": 54,
     "metadata": {},
     "output_type": "execute_result"
    }
   ],
   "source": [
    "linear_model.fit(X_train, y_train)\n"
   ]
  },
  {
   "cell_type": "code",
   "execution_count": 55,
   "id": "8ce0d7b5-eb88-47bc-aded-142a6c1922f5",
   "metadata": {},
   "outputs": [],
   "source": [
    "y_pred = linear_model.predict(X_test)\n"
   ]
  },
  {
   "cell_type": "code",
   "execution_count": 56,
   "id": "8a20b428-2cbf-4bd0-8b54-b3f372874807",
   "metadata": {},
   "outputs": [
    {
     "name": "stdout",
     "output_type": "stream",
     "text": [
      "Coeficientes: [-1.43649842e+00  2.46361614e+04 -9.83721446e+04 -9.83721394e+04\n",
      "  2.14394622e+05 -6.28349520e+05 -3.55584932e+04 -2.58585172e+04\n",
      " -1.14586796e+05  1.47934885e+04 -5.86721822e+05 -1.24867186e+05\n",
      " -6.40636897e+04  3.48875454e+05 -8.32237564e+04  1.75346020e+12\n",
      "  1.32085289e+12 -2.96272817e+12  2.30312806e+11 -9.65908701e+10\n",
      "  6.25193468e+11 -9.09912396e+10 -7.31243110e+11 -1.26359222e+12\n",
      " -2.58527511e+11  2.55995045e+11  2.55994949e+11 -4.08243308e+11\n",
      " -2.58527591e+11  3.79044212e+10  8.28964481e+11 -1.14649635e+12\n",
      " -3.81027356e+11 -1.24779400e+12 -1.35434360e+11 -6.18906907e+11\n",
      "  8.60659590e+11  7.25624376e+11 -2.25255120e+05  8.60659526e+11\n",
      " -2.81015685e+05  4.07573036e+11 -2.65605528e+11  5.50764574e+11\n",
      " -3.82833432e+11  4.02438744e+10  1.07577194e+12 -3.67921675e+11\n",
      "  5.52459037e+11 -1.03751512e+11 -3.15546618e+11 -3.15546793e+11\n",
      " -3.07819265e+11 -8.08565620e+11 -3.26756282e+11 -1.13615577e+11\n",
      "  1.50699308e+12  9.77208761e+11 -1.89029500e+11  3.84773661e+11\n",
      " -3.15546376e+11  2.48256206e+11  1.01807587e+11 -3.97274659e+11\n",
      "  2.14591461e+11  2.24237581e+11 -5.34664447e+10 -3.97274196e+11\n",
      " -1.07042747e+10  4.34355131e+11  3.82417801e+11  1.20932392e+11\n",
      "  6.33500787e+11 -3.15546554e+11  5.93497578e+11 -3.67129712e+11\n",
      "  3.01278931e+11  1.66135405e+11 -3.15547589e+11  4.48335217e+11\n",
      "  2.44011910e+11 -4.79593160e+11  3.89974471e+11  9.77208649e+11\n",
      "  9.77208126e+11  4.48335299e+11  4.48335355e+11 -3.22663593e+11\n",
      " -1.23886741e+11 -1.50409728e+11 -1.62683106e+11 -1.33889631e+11\n",
      " -9.70043914e+10 -3.24634367e+09 -1.07460771e+12  2.25230934e+10\n",
      " -2.40018442e+11 -3.62771956e+11 -1.91509189e+12 -3.73803821e+12\n",
      "  1.95136781e+10  9.35779853e+10  1.38408065e+12 -1.52784089e+12\n",
      "  2.18332064e+12 -2.52510460e+11  4.48335263e+11 -1.64192085e+10\n",
      "  2.27325930e+11 -3.06705823e+10  6.23399262e+10 -1.67966133e+11\n",
      "  7.27305038e+10  4.77792470e+11  4.48335161e+11 -3.36576921e+10\n",
      " -8.02374040e+11 -1.11980481e+11  1.65199860e+11  3.97750586e+10\n",
      " -5.21388230e+11 -1.39396828e+11 -2.32584324e+10  3.65151231e+11\n",
      " -2.09373236e+11  2.85401110e+10 -7.32598547e+11 -5.70103129e+11\n",
      " -2.59628479e+11  2.07866890e+11 -8.85556798e+11 -1.25162620e+11\n",
      "  5.61541149e+11 -5.53735721e+11  2.81084956e+11 -3.24355205e+11\n",
      "  1.06597223e+12  2.04782190e+11  1.06597216e+12  1.06597235e+12\n",
      "  2.07294372e+11 -6.66350278e+12  2.37491863e+11  3.89633536e+10\n",
      " -3.45993205e+11  3.89632198e+10 -3.45994037e+11 -3.45993116e+11\n",
      " -3.45993567e+11 -3.45993284e+11 -3.45993431e+11 -1.24240201e+11\n",
      "  2.28670624e+11  2.28671057e+11  3.82196741e+10 -3.45993338e+11\n",
      " -1.03576720e+11 -2.17419452e+11 -3.45993441e+11 -3.45993198e+11\n",
      " -3.45993271e+11 -3.45993282e+11 -3.45993077e+11 -3.45993067e+11\n",
      " -3.45993018e+11 -3.45993140e+11 -3.45993140e+11 -8.95663763e+11\n",
      " -8.95663866e+11 -1.53144193e+12 -1.40124357e+11  1.56114335e+11\n",
      "  1.63729054e+11  1.63729085e+11 -2.44720391e+11 -5.43894681e+10\n",
      " -1.44792112e+12 -1.44792106e+12 -7.27151884e+11 -2.52047330e+11\n",
      " -1.10987521e+12 -2.49462222e+12 -3.04997944e+11 -4.94081271e+11\n",
      "  1.07112575e+11 -1.54485422e+12  1.04216267e+11  1.04216034e+11\n",
      " -1.54485407e+12 -3.24355165e+11 -1.52103259e+11 -8.23210197e+10\n",
      "  2.07096549e+11  9.07284064e+10  4.20423711e+11  9.07279621e+10\n",
      " -2.87946933e+11 -2.63072868e+11 -2.40499827e+10  3.63037784e+10\n",
      "  1.82868588e+08 -1.95535365e+11 -3.27019259e+11 -1.95535092e+11\n",
      " -1.17618418e+11 -1.17618392e+11  3.53804287e+07 -1.17618374e+11\n",
      "  5.82303869e+10 -5.33562986e+10 -1.17618918e+11  2.84515272e+11\n",
      " -1.26420977e+11 -1.54479886e+11  2.84516186e+11 -1.10432820e+11\n",
      "  1.60553522e+10 -1.17618080e+11 -1.17618042e+11 -7.34444524e+11\n",
      " -7.34444397e+11 -1.17618147e+11  3.36578846e+11 -6.79408431e+10\n",
      "  5.72125017e+10  4.29760720e+10 -8.39276424e+10 -5.14145669e+11\n",
      "  1.21786786e+07 -1.90494253e+11  1.70737636e+12  2.40814355e+11\n",
      "  1.44300764e+11  6.40380264e+10  1.41604007e+11  1.41604496e+11\n",
      " -4.81640519e+06 -3.46510832e+05 -5.07751367e+06 -4.67806292e+11\n",
      " -1.46870825e+10  8.04651672e+10  8.31428159e+11 -2.42225355e+06\n",
      " -1.17618511e+11  7.19021522e+11 -1.50829072e+05  7.19020555e+11\n",
      " -1.17618348e+11  2.98467874e+11 -1.17617997e+11  7.19020983e+11\n",
      " -2.02835065e+10  2.03516600e+11  1.78805216e+11  2.43661836e+11\n",
      "  1.78411430e+11 -7.99559754e+10  1.38638827e+12  1.89302921e+11\n",
      "  3.28977175e+11 -3.18644869e+10 -7.99558816e+10  3.20414263e+04\n",
      "  3.01319402e+11 -3.98735944e+11 -3.98736451e+11  2.49737268e+11\n",
      " -1.52265331e+11  1.31215683e+11 -3.12755894e+11  2.49738291e+11\n",
      "  2.49738296e+11 -3.33846316e+10  1.89755083e+11  2.49740515e+11\n",
      " -7.74986614e+10  9.09075142e+10  8.81269453e+10  5.26656806e+10\n",
      "  6.69495766e+10  9.69122329e+10  3.35299892e+10 -4.37109467e+03\n",
      " -2.50540335e+11 -2.50539228e+11 -2.50539799e+11  1.64354517e+11\n",
      "  1.63763922e+11 -3.85083429e+02 -3.26287374e+11 -6.62144990e+10\n",
      " -5.36340626e+10  2.77248198e+10  6.40376869e+02 -1.22234400e+11\n",
      " -1.05472749e+11 -1.03691158e+11 -1.24300764e+10 -5.40417546e+09\n",
      " -1.99607544e+11 -6.89746228e+01  3.09478364e+11  9.09682247e+11\n",
      "  1.13160145e+11  3.65312870e+11  9.09682256e+11 -1.31692365e+11\n",
      " -1.31692327e+11 -1.31692321e+11 -6.60704431e+11  2.87535528e+11\n",
      " -1.81086592e+11 -1.20967056e+11 -6.60704438e+11 -3.13036566e+10\n",
      "  7.05605271e+11  1.24398019e+11  2.58527906e+11  1.24397867e+11\n",
      "  1.85587547e+11  1.18251296e+11  1.18251369e+11  1.87960547e+11\n",
      "  1.18251290e+11  1.12780710e+11 -3.35998535e-02  5.60466571e+11\n",
      " -1.13127303e+11 -8.92613966e+11  4.28682607e+11  1.12267690e+11\n",
      "  1.64455500e+11  1.64455447e+11  9.59981300e+10  9.59980956e+10\n",
      " -2.89895046e+11 -1.43190375e+12 -2.18393236e+11 -1.43190391e+12\n",
      " -1.43190389e+12 -1.43190392e+12 -1.44602626e+10 -1.44602628e+10\n",
      " -3.24355256e+11 -1.44602704e+10 -1.44601654e+10  1.16060273e+11\n",
      " -3.24355385e+11 -1.44602426e+10  1.41641838e+11 -1.44601864e+10\n",
      " -3.24355019e+11 -6.79939521e+11 -3.24355208e+11 -3.24354995e+11\n",
      " -3.24355076e+11 -3.24355152e+11 -3.24355063e+11 -3.24355269e+11\n",
      " -3.24355228e+11 -8.56139844e+11 -3.24355196e+11 -3.24354812e+11\n",
      " -3.24355100e+11 -3.24355001e+11 -3.24355077e+11 -3.24355085e+11\n",
      " -3.24355018e+11 -3.24355232e+11  1.67453802e+12  6.84752542e+11\n",
      "  2.50272060e+11 -3.24354994e+11  2.50271990e+11 -3.24355137e+11\n",
      " -3.24355172e+11  2.95025597e+11 -3.24355063e+11 -3.24354978e+11\n",
      " -1.45589772e+11  3.58023566e+11 -3.24355156e+11 -2.94517984e+11\n",
      " -2.29812258e+11  1.29409593e+11  5.56932902e+11 -1.09574764e+12\n",
      " -3.08778662e+11 -3.08778669e+11 -1.45859121e+11  9.30251495e+11\n",
      "  1.09221825e+11  3.30004841e-05 -2.96789221e-05 -1.28336322e+12\n",
      "  6.54044315e+11  2.52122906e+11 -1.54438774e+12  7.81447427e+10\n",
      "  7.81447173e+10  2.48547125e+11  6.72904870e+11  5.18941180e+11\n",
      " -1.28336310e+12 -1.28336304e+12 -1.28336301e+12 -1.28336312e+12\n",
      " -1.28336274e+12 -1.28336293e+12 -1.28336269e+12 -1.63955207e+11\n",
      " -8.41092543e+11 -1.05782973e+11 -1.54438765e+12 -1.54438777e+12\n",
      "  1.93304656e+11 -2.48292749e+11 -1.75532882e+11 -2.48292810e+11\n",
      " -1.75533717e+11 -3.24355018e+11 -4.14587222e+10 -3.24355062e+11\n",
      " -3.24354929e+11 -3.24354922e+11 -3.24355129e+11 -3.24355203e+11\n",
      " -3.24355198e+11 -3.24354733e+11 -3.24354739e+11 -3.24355173e+11\n",
      "  6.45784232e+11 -1.04594475e+10 -1.04592232e+10 -1.04592086e+10\n",
      " -1.04592941e+10 -4.13553708e+11  6.45784067e+11  4.39428033e+10\n",
      "  2.12731828e+11  4.64219625e+11  4.64219574e+11  9.61325399e+11\n",
      "  1.41626859e+11 -4.17051465e+11 -4.17052078e+11 -4.17051827e+11\n",
      " -4.17052011e+11 -2.31806192e+11 -2.31806054e+11 -4.17051948e+11\n",
      "  3.22834305e+11 -4.17052160e+11 -4.17052098e+11  1.41626356e+11\n",
      " -6.74980476e+11  2.52383564e+11  7.13844266e+10  7.13844000e+10\n",
      "  5.44772687e+11 -8.47177481e+10  1.55388026e+12 -7.05790899e+11\n",
      "  5.33239393e+11  3.42930845e+10  4.45541732e+09 -6.02497608e+10\n",
      "  2.29523747e+10 -3.68206682e+11 -1.44202922e+11 -4.17692233e+10\n",
      "  3.01380842e+10  6.71315406e+11 -7.05790939e+11 -7.05791509e+11\n",
      "  2.65919304e+11  4.39524433e+11  3.42932626e+10 -4.35336243e+11\n",
      "  3.42932846e+10 -4.35336213e+11  3.42930737e+10  1.68685801e-07\n",
      " -1.18790165e+11  3.30243351e+11  3.42930437e+10  5.33239131e+11\n",
      "  5.33239059e+11  1.47781818e+12 -2.76624240e+10 -2.76623209e+10\n",
      " -2.40865442e+10 -4.48444334e+11 -1.26106749e+11  3.30243460e+11\n",
      "  1.50782365e+12 -3.10347787e-07  6.98531226e+11  5.51030488e+11\n",
      "  5.48815696e+11 -2.76621299e+10 -2.76622328e+10 -4.29583563e+11\n",
      "  9.93300816e+11  1.76884828e+12 -9.21299916e+10 -9.21299801e+10\n",
      "  5.93488052e+11  1.25432579e+12  1.50782372e+12  4.25722278e+11\n",
      "  4.25722488e+11 -2.76623114e+10  2.32956731e+11 -4.35336308e+11\n",
      "  2.90288072e+11  1.39783682e+12  4.62762070e+10  1.21122765e+11\n",
      " -4.95055100e+11  1.16543216e+12  2.32956815e+11 -2.75453612e+11\n",
      " -5.17038761e+11 -3.11929442e+11 -3.11929465e+11 -1.75693209e+11\n",
      " -3.13036566e+10 -4.81172933e+11  8.81747755e+10 -9.21298980e+10\n",
      "  7.17161095e+10 -2.17581129e+12  2.90288072e+11  2.90288070e+11\n",
      " -9.96287767e+11 -1.10003948e+12 -4.08381466e+11 -1.33183402e+11\n",
      " -6.09439589e+10 -6.62920490e+11  5.18419149e+11 -2.62170825e+11\n",
      "  1.39852823e+11  2.90288092e+11  2.90288151e+11  1.83352936e+11\n",
      "  2.90288209e+11  2.90288109e+11  2.90288064e+11 -9.22009349e-08\n",
      "  6.27472470e+11  3.09803456e+11  6.94760239e+11  2.90288256e+11\n",
      "  2.90287989e+11  6.36701350e+10  6.36700408e+10 -5.23319185e+10\n",
      "  3.81279248e+11  2.90288039e+11 -3.69106254e+11  6.27473063e+11\n",
      "  2.91022885e+11  5.28089557e+10  2.09808883e+11  2.54469596e+11\n",
      "  4.39878756e+10  6.38682228e+11  1.51760589e+12  7.96836475e+11\n",
      "  1.33362416e+10 -9.40443791e+10 -1.58083011e+11  4.39875202e+10\n",
      " -2.81527950e+11  3.14886935e+11  4.22806886e+11 -3.45311864e+10\n",
      "  3.79436903e+09  9.67411324e-08  3.79479177e+09  6.27472711e+11\n",
      "  6.27472580e+11  3.79431700e+09 -1.17285156e+11  3.25301618e+12\n",
      "  5.65222703e+12  1.56111079e+11 -5.70371411e+11  1.44143067e+10\n",
      "  3.25301614e+12  5.90257823e+11 -5.70371516e+11 -5.70371506e+11\n",
      " -5.96664766e+10 -1.63048619e+11  5.59315875e+10  1.53808208e+12\n",
      "  3.26904015e+11  1.62954397e+12 -1.80764143e+11  1.23904160e+11\n",
      "  6.87098314e+08  4.80825961e+11  2.99941642e+10  5.70453522e+11\n",
      "  1.85496811e+11  3.08415410e+10  0.00000000e+00  3.34428289e+09\n",
      " -7.85483860e+11  3.42929251e+10  3.25301620e+12 -7.85483786e+11\n",
      "  3.42930645e+10 -7.85483677e+11 -2.60476476e+11  4.34548631e+11\n",
      "  9.49501360e+11  6.98531115e+11  6.98531044e+11  6.98531254e+11\n",
      "  6.98531339e+11 -9.54286186e+11 -9.54286058e+11  0.00000000e+00\n",
      " -8.46995074e+11  6.98531247e+11  6.98531143e+11 -9.21298691e+10\n",
      "  0.00000000e+00  6.98531341e+11 -1.55383392e+11 -3.55981726e+11\n",
      "  3.17438126e+10 -7.85483753e+11 -7.85483806e+11 -2.37606489e+11\n",
      "  6.98531293e+11  5.63522282e+11  1.03674742e+13  2.63799911e+12\n",
      " -5.17194161e+11 -1.89303236e+12  2.63799933e+12  6.98531235e+11\n",
      "  6.98531551e+11  6.98531593e+11  5.70454182e+11  2.56260846e+11\n",
      "  1.64354522e+11  6.05834401e+11  6.98531860e+11  2.44766465e+11\n",
      "  1.38926085e+12  3.84635456e+11 -1.60968740e+11  2.10255426e+11\n",
      " -6.79337834e+10 -1.44067087e+11 -4.53962092e+11 -7.65441787e+10\n",
      "  1.99659583e+12  6.98531543e+11  6.98531479e+11  6.98531763e+11\n",
      "  5.68461579e+10 -4.13544875e+10  1.23524076e+12  3.57845909e+10\n",
      "  2.90288782e+11  2.90288499e+11  2.90288331e+11  2.90288343e+11\n",
      "  2.90288468e+11  2.90288290e+11  2.90288134e+11  2.90288277e+11\n",
      "  0.00000000e+00  9.19699293e+11  2.90288554e+11  1.31687035e+11\n",
      " -1.58047221e+11 -1.61341179e+10  2.90288641e+11  2.37536964e+11\n",
      " -3.13923804e+10  0.00000000e+00 -1.75285174e+10 -2.17581166e+12\n",
      "  6.05834654e+11  1.09221825e+11 -7.63846114e+11 -1.78349009e+11\n",
      " -2.17581114e+12 -2.38837798e+11 -2.38838187e+11  5.10916106e+11\n",
      " -2.38838242e+11  2.06414072e+11  1.22895174e+11 -1.07215413e+12\n",
      " -2.38838318e+11 -7.63846125e+11  2.01221975e+12 -1.22428871e+11\n",
      "  2.01221980e+12 -1.84857440e+11 -9.69714665e+11  1.73905116e+11\n",
      "  8.00960732e+11  3.42306313e+10  1.73452031e+11  6.27472736e+11\n",
      "  6.27472670e+11  1.22392445e+11  2.21603494e+11  0.00000000e+00\n",
      " -5.29761168e+10 -4.02360107e+10 -3.39742976e+10  4.21603381e+11\n",
      "  6.27472827e+11  6.83770171e+11  3.54075062e+11  6.83770420e+11\n",
      "  6.83770621e+11  1.06244559e+12  6.83770576e+11  5.60317738e+11\n",
      " -5.22484062e+11  4.15677944e+11 -5.22483962e+11 -9.66257329e+10\n",
      " -6.38516530e+11 -2.37682043e+11 -2.44692653e+11  2.01222028e+12\n",
      " -2.30354914e+11 -1.06039886e+11  2.01221981e+12 -5.24078339e+10\n",
      "  6.33916392e+10  6.33919999e+10 -8.64292324e+10 -8.15739490e+11\n",
      " -4.23468748e+11 -3.74275637e+10  3.08312607e+11 -2.53025050e+11\n",
      " -3.92558332e+11  1.13473703e+11 -3.64782501e+11  2.52042181e+11\n",
      " -3.64782944e+11 -3.64784036e+11  3.99097999e+11 -3.64783836e+11\n",
      " -3.03482499e+09  0.00000000e+00  3.99098508e+11  5.81126063e+10\n",
      "  3.99098306e+11  1.20925768e+12 -3.64783098e+11  1.20925878e+12\n",
      "  0.00000000e+00 -1.80866092e+11  0.00000000e+00  3.99099440e+11\n",
      "  1.15815979e+12  4.92866691e+10  0.00000000e+00 -1.99607544e+11\n",
      " -1.10490757e+12  2.75851352e+11  1.03067843e+11 -5.49948354e+11\n",
      "  0.00000000e+00 -5.40417545e+09  3.99098022e+11 -7.61230090e+10\n",
      "  1.15815982e+12  4.92862702e+10 -3.98473954e+11  1.89726949e+11\n",
      "  2.43660838e+11 -3.21365172e+11  7.79639043e+10  3.17439681e+10\n",
      " -1.98387694e+10 -1.98388226e+10  1.89727471e+11  2.28584348e+09\n",
      "  1.08950459e+11  1.44296922e+11  6.21458475e+10  0.00000000e+00\n",
      " -8.77302438e+11 -8.93656233e+11  6.80217783e+11  3.17439931e+10\n",
      "  3.17414014e+10  3.17421157e+10  2.85908183e+11 -5.27818508e+11\n",
      "  3.17439422e+10 -7.74986811e+10 -2.53134103e+11  4.69841481e+11\n",
      " -1.08731568e+09 -2.75210215e+11  0.00000000e+00 -1.21121341e+11\n",
      " -8.93655523e+11 -9.40860445e+11 -1.08796519e+09  0.00000000e+00\n",
      " -2.75210267e+11  1.17716532e+11 -1.69645091e+11  4.43833063e+10\n",
      "  5.26656927e+10 -3.01272853e+11  6.21459336e+10  6.21458613e+10\n",
      "  0.00000000e+00  3.33218650e+11 -7.60734836e+11  6.69495956e+10\n",
      " -2.55096690e+09  0.00000000e+00  1.27021378e+11  3.06998368e+11\n",
      "  3.06998120e+11  1.27020292e+11 -1.33049843e+11  5.32253581e+10\n",
      " -7.70314883e+10  3.89053175e+11  5.32257726e+10 -2.11150868e+11\n",
      "  5.85371113e+11  5.85371259e+11 -1.86835822e+11  4.10996015e+11\n",
      "  0.00000000e+00 -9.55697660e+10  5.01933778e+10 -9.37894007e+10\n",
      " -2.11150932e+11  1.35923588e+12 -4.46468900e+11 -7.07378657e+09\n",
      "  0.00000000e+00 -8.94913265e+11  5.12943800e+11  0.00000000e+00\n",
      "  4.17784724e+11  3.50448533e+11  1.12780710e+11  3.55213254e+11\n",
      "  1.61484244e+11  4.23670654e+11  3.80990570e+11 -2.22027681e+11\n",
      " -1.46317200e+12  2.66142914e+12 -1.46317206e+12 -1.58464945e+11\n",
      "  1.44791851e+12  7.38061926e+11 -3.05713184e+11  8.36295605e+11\n",
      "  7.69839586e+10  8.36295620e+11  0.00000000e+00  8.44023708e+11\n",
      "  8.44023430e+11  9.20316158e+09  8.44023933e+11  9.20338168e+09\n",
      "  0.00000000e+00  7.69839097e+10  7.69839507e+10  3.86879031e+11\n",
      "  7.69839652e+10  9.20348247e+09 -1.20967056e+11 -1.03056468e+12\n",
      " -4.98780091e+11  0.00000000e+00 -5.91363115e+10 -1.03056467e+12]\n"
     ]
    }
   ],
   "source": [
    "print(\"Coeficientes:\", linear_model.coef_)"
   ]
  },
  {
   "cell_type": "code",
   "execution_count": 57,
   "id": "b67c3ef7-40c4-4f96-92f3-7b3b3675f703",
   "metadata": {},
   "outputs": [
    {
     "name": "stdout",
     "output_type": "stream",
     "text": [
      "Intercepción: 34067998697.19093\n"
     ]
    }
   ],
   "source": [
    "print(\"Intercepción:\", linear_model.intercept_)"
   ]
  },
  {
   "cell_type": "code",
   "execution_count": 58,
   "id": "5fc85fba-a924-4b47-9cf9-3bcc3c7aa2d6",
   "metadata": {},
   "outputs": [],
   "source": [
    "from sklearn.metrics import mean_squared_error, r2_score"
   ]
  },
  {
   "cell_type": "code",
   "execution_count": 59,
   "id": "6d818cdb-22f8-4155-bf91-2ad0ddadd9d2",
   "metadata": {},
   "outputs": [
    {
     "name": "stdout",
     "output_type": "stream",
     "text": [
      "R^2: -21390960048.637745\n"
     ]
    }
   ],
   "source": [
    "print('R^2:', r2_score(y_test, y_pred))"
   ]
  },
  {
   "cell_type": "code",
   "execution_count": 60,
   "id": "3c52c094-0a77-4384-a882-08a3843f6662",
   "metadata": {},
   "outputs": [
    {
     "name": "stdout",
     "output_type": "stream",
     "text": [
      "RMSE: 101964046408.09515\n"
     ]
    }
   ],
   "source": [
    "print('RMSE:', mean_squared_error(y_test, y_pred, squared=False))"
   ]
  },
  {
   "cell_type": "code",
   "execution_count": 61,
   "id": "cb0c330d-7fdf-4b20-82fb-1084e91f3b09",
   "metadata": {},
   "outputs": [
    {
     "name": "stdout",
     "output_type": "stream",
     "text": [
      "MAE: 1.0396666759912182e+22\n"
     ]
    }
   ],
   "source": [
    "print('MAE:', mean_squared_error(y_test, y_pred, squared=True))"
   ]
  },
  {
   "cell_type": "code",
   "execution_count": 62,
   "id": "8e081605-61a9-4733-a6c1-336b600bc156",
   "metadata": {},
   "outputs": [],
   "source": [
    "feature = X_train.columns[0]\n",
    "X_train_feature = X_train[feature].values.reshape(-1, 1)  \n",
    "X_test_feature = X_test[feature].values.reshape(-1, 1)\n"
   ]
  },
  {
   "cell_type": "code",
   "execution_count": 63,
   "id": "4d14560e-5192-4a87-9632-4a35321b73c6",
   "metadata": {},
   "outputs": [
    {
     "data": {
      "text/html": [
       "<style>#sk-container-id-2 {color: black;background-color: white;}#sk-container-id-2 pre{padding: 0;}#sk-container-id-2 div.sk-toggleable {background-color: white;}#sk-container-id-2 label.sk-toggleable__label {cursor: pointer;display: block;width: 100%;margin-bottom: 0;padding: 0.3em;box-sizing: border-box;text-align: center;}#sk-container-id-2 label.sk-toggleable__label-arrow:before {content: \"▸\";float: left;margin-right: 0.25em;color: #696969;}#sk-container-id-2 label.sk-toggleable__label-arrow:hover:before {color: black;}#sk-container-id-2 div.sk-estimator:hover label.sk-toggleable__label-arrow:before {color: black;}#sk-container-id-2 div.sk-toggleable__content {max-height: 0;max-width: 0;overflow: hidden;text-align: left;background-color: #f0f8ff;}#sk-container-id-2 div.sk-toggleable__content pre {margin: 0.2em;color: black;border-radius: 0.25em;background-color: #f0f8ff;}#sk-container-id-2 input.sk-toggleable__control:checked~div.sk-toggleable__content {max-height: 200px;max-width: 100%;overflow: auto;}#sk-container-id-2 input.sk-toggleable__control:checked~label.sk-toggleable__label-arrow:before {content: \"▾\";}#sk-container-id-2 div.sk-estimator input.sk-toggleable__control:checked~label.sk-toggleable__label {background-color: #d4ebff;}#sk-container-id-2 div.sk-label input.sk-toggleable__control:checked~label.sk-toggleable__label {background-color: #d4ebff;}#sk-container-id-2 input.sk-hidden--visually {border: 0;clip: rect(1px 1px 1px 1px);clip: rect(1px, 1px, 1px, 1px);height: 1px;margin: -1px;overflow: hidden;padding: 0;position: absolute;width: 1px;}#sk-container-id-2 div.sk-estimator {font-family: monospace;background-color: #f0f8ff;border: 1px dotted black;border-radius: 0.25em;box-sizing: border-box;margin-bottom: 0.5em;}#sk-container-id-2 div.sk-estimator:hover {background-color: #d4ebff;}#sk-container-id-2 div.sk-parallel-item::after {content: \"\";width: 100%;border-bottom: 1px solid gray;flex-grow: 1;}#sk-container-id-2 div.sk-label:hover label.sk-toggleable__label {background-color: #d4ebff;}#sk-container-id-2 div.sk-serial::before {content: \"\";position: absolute;border-left: 1px solid gray;box-sizing: border-box;top: 0;bottom: 0;left: 50%;z-index: 0;}#sk-container-id-2 div.sk-serial {display: flex;flex-direction: column;align-items: center;background-color: white;padding-right: 0.2em;padding-left: 0.2em;position: relative;}#sk-container-id-2 div.sk-item {position: relative;z-index: 1;}#sk-container-id-2 div.sk-parallel {display: flex;align-items: stretch;justify-content: center;background-color: white;position: relative;}#sk-container-id-2 div.sk-item::before, #sk-container-id-2 div.sk-parallel-item::before {content: \"\";position: absolute;border-left: 1px solid gray;box-sizing: border-box;top: 0;bottom: 0;left: 50%;z-index: -1;}#sk-container-id-2 div.sk-parallel-item {display: flex;flex-direction: column;z-index: 1;position: relative;background-color: white;}#sk-container-id-2 div.sk-parallel-item:first-child::after {align-self: flex-end;width: 50%;}#sk-container-id-2 div.sk-parallel-item:last-child::after {align-self: flex-start;width: 50%;}#sk-container-id-2 div.sk-parallel-item:only-child::after {width: 0;}#sk-container-id-2 div.sk-dashed-wrapped {border: 1px dashed gray;margin: 0 0.4em 0.5em 0.4em;box-sizing: border-box;padding-bottom: 0.4em;background-color: white;}#sk-container-id-2 div.sk-label label {font-family: monospace;font-weight: bold;display: inline-block;line-height: 1.2em;}#sk-container-id-2 div.sk-label-container {text-align: center;}#sk-container-id-2 div.sk-container {/* jupyter's `normalize.less` sets `[hidden] { display: none; }` but bootstrap.min.css set `[hidden] { display: none !important; }` so we also need the `!important` here to be able to override the default hidden behavior on the sphinx rendered scikit-learn.org. See: https://github.com/scikit-learn/scikit-learn/issues/21755 */display: inline-block !important;position: relative;}#sk-container-id-2 div.sk-text-repr-fallback {display: none;}</style><div id=\"sk-container-id-2\" class=\"sk-top-container\"><div class=\"sk-text-repr-fallback\"><pre>LinearRegression()</pre><b>In a Jupyter environment, please rerun this cell to show the HTML representation or trust the notebook. <br />On GitHub, the HTML representation is unable to render, please try loading this page with nbviewer.org.</b></div><div class=\"sk-container\" hidden><div class=\"sk-item\"><div class=\"sk-estimator sk-toggleable\"><input class=\"sk-toggleable__control sk-hidden--visually\" id=\"sk-estimator-id-2\" type=\"checkbox\" checked><label for=\"sk-estimator-id-2\" class=\"sk-toggleable__label sk-toggleable__label-arrow\">LinearRegression</label><div class=\"sk-toggleable__content\"><pre>LinearRegression()</pre></div></div></div></div></div>"
      ],
      "text/plain": [
       "LinearRegression()"
      ]
     },
     "execution_count": 63,
     "metadata": {},
     "output_type": "execute_result"
    }
   ],
   "source": [
    "simple_linear_model = LinearRegression()\n",
    "simple_linear_model.fit(X_train_feature, y_train)"
   ]
  },
  {
   "cell_type": "code",
   "execution_count": 64,
   "id": "6a92d37d-9dc9-4bef-8afe-26c4896fa6da",
   "metadata": {},
   "outputs": [],
   "source": [
    "x_range = np.linspace(X_train_feature.min(), X_train_feature.max(), 100).reshape(-1, 1)\n",
    "y_range = simple_linear_model.predict(x_range)"
   ]
  },
  {
   "cell_type": "code",
   "execution_count": 65,
   "id": "f966d0d2-39bd-41dd-bd46-8174df20e597",
   "metadata": {},
   "outputs": [
    {
     "data": {
      "image/png": "[encoded data removed]",
      "text/plain": [
       "<Figure size 640x480 with 1 Axes>"
      ]
     },
     "metadata": {},
     "output_type": "display_data"
    }
   ],
   "source": [
    "plt.scatter(X_train_feature, y_train, color='blue', label='Datos de entrenamiento')\n",
    "plt.plot(x_range, y_range, color='red', label='Línea de regresión')\n",
    "plt.title('Relación entre {} y el Precio de Venta'.format(feature))\n",
    "plt.xlabel(feature)\n",
    "plt.ylabel('Precio de Venta')\n",
    "plt.legend()\n",
    "plt.show()"
   ]
  },
  {
   "cell_type": "code",
   "execution_count": 66,
   "id": "a3060f24-7646-4e9f-bf67-a117478281f2",
   "metadata": {},
   "outputs": [],
   "source": [
    "from sklearn.metrics import mean_squared_error, mean_absolute_error, r2_score\n"
   ]
  },
  {
   "cell_type": "code",
   "execution_count": 77,
   "id": "af3062bc-37e3-4d4c-b07d-57c6cb5bce77",
   "metadata": {},
   "outputs": [],
   "source": [
    "def evaluar_modelo(X, y, nombre_del_conjunto, modelo):\n",
    "    y_pred = modelo.predict(X)\n",
    "    mse = mean_squared_error(y, y_pred)\n",
    "    rmse = np.sqrt(mse)\n",
    "    mae = mean_absolute_error(y, y_pred)\n",
    "    r2 = r2_score(y, y_pred)\n",
    "\n",
    "    print(f\"Resultados de la evaluación del modelo en el conjunto de {nombre_del_conjunto}:\")\n",
    "    print(f\"MSE: {mse}\")\n",
    "    print(f\"RMSE: {rmse}\")\n",
    "    print(f\"MAE: {mae}\")\n",
    "    print(f\"R^2: {r2}\")\n",
    "    print()"
   ]
  },
  {
   "cell_type": "code",
   "execution_count": 78,
   "id": "e3cdcdca-9830-4a30-83ac-21f363a651d5",
   "metadata": {},
   "outputs": [
    {
     "name": "stdout",
     "output_type": "stream",
     "text": [
      "Resultados de la evaluación del modelo en el conjunto de entrenamiento:\n",
      "MSE: 85465252726.37488\n",
      "RMSE: 292344.40772208193\n",
      "MAE: 146463.6040947126\n",
      "R^2: 0.8123650471817863\n",
      "\n",
      "Resultados de la evaluación del modelo en el conjunto de prueba:\n",
      "MSE: 1.0396666759912182e+22\n",
      "RMSE: 101964046408.09515\n",
      "MAE: 6028972496.337974\n",
      "R^2: -21390960048.637745\n",
      "\n"
     ]
    }
   ],
   "source": [
    "evaluar_modelo(X_train, y_train, 'entrenamiento', linear_model)\n",
    "evaluar_modelo(X_test, y_test, 'prueba', linear_model)"
   ]
  },
  {
   "cell_type": "code",
   "execution_count": null,
   "id": "24c8598e-a38e-45fd-885f-040980b5229f",
   "metadata": {},
   "outputs": [],
   "source": []
  }
 ],
 "metadata": {
  "kernelspec": {
   "display_name": "Python 3 (ipykernel)",
   "language": "python",
   "name": "python3"
  },
  "language_info": {
   "codemirror_mode": {
    "name": "ipython",
    "version": 3
   },
   "file_extension": ".py",
   "mimetype": "text/x-python",
   "name": "python",
   "nbconvert_exporter": "python",
   "pygments_lexer": "ipython3",
   "version": "3.11.7"
  }
 },
 "nbformat": 4,
 "nbformat_minor": 5
}
